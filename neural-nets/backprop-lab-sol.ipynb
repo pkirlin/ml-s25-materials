{
 "cells": [
  {
   "cell_type": "code",
   "execution_count": 2,
   "id": "2b69b3ed-5f7e-44a3-9ed9-1520ecc416d5",
   "metadata": {},
   "outputs": [],
   "source": [
    "# Generate data specifically cubic data, y= x^{3}- 3x + 2\n",
    "\n",
    "import numpy as np\n",
    "import matplotlib.pyplot as plt\n",
    "import pandas as pd\n",
    "\n",
    "x_data = np.arange(-3, 3, .1)\n",
    "y_numeric = x_data ** 3 - 3 * x_data + 2\n"
   ]
  },
  {
   "cell_type": "code",
   "execution_count": 3,
   "id": "bfe39454-89a7-4eb9-9916-9778915f963b",
   "metadata": {},
   "outputs": [
    {
     "data": {
      "image/png": "[encoded data removed]",
      "text/plain": [
       "<Figure size 640x480 with 1 Axes>"
      ]
     },
     "metadata": {},
     "output_type": "display_data"
    }
   ],
   "source": [
    "# Plot original data\n",
    "\n",
    "plt.plot(x_data, y_numeric, -3, 3)\n",
    "plt.show()"
   ]
  },
  {
   "cell_type": "markdown",
   "id": "5b5e3947-ad2c-4142-8abb-8cd079908437",
   "metadata": {},
   "source": [
    "# Neural Network 1: Regression, no hidden layer"
   ]
  },
  {
   "cell_type": "code",
   "execution_count": 4,
   "id": "22610dfa-d192-4c90-a1f3-e3c5f08d7f8a",
   "metadata": {},
   "outputs": [],
   "source": [
    "# Neural network 1, no hidden layer, regression (should duplicate linear regression)\n",
    "\n",
    "# Activation function is identity function (not sigmoid)\n",
    "# Loss function is squared error\n",
    "\n",
    "X_train = np.array(x_data).reshape((-1, 1))\n",
    "y_train = y_numeric\n",
    "\n",
    "W = np.array([[.1]])\n",
    "b = np.array([.2])\n",
    "\n",
    "def relu(z):\n",
    "    return np.maximum(0, z)\n",
    "\n",
    "def relu_deriv(z):\n",
    "    if z >= 0: \n",
    "        return 1 \n",
    "    else: return 0\n",
    "\n",
    "def compute_loss(a, y):\n",
    "    return .5 * (a - y) ** 2\n",
    "\n",
    "def compute_cost(X_data, y_data, W, b):\n",
    "    m = X_data.shape[0] # number of data points\n",
    "    cost = 0\n",
    "    \n",
    "    for i in range(m):\n",
    "        y_hat = run_model(X_data[i], W, b)\n",
    "        y = y_data[i]\n",
    "        cost += compute_loss(y_hat, y)\n",
    "    total_cost = (1 / (2 * m)) * cost\n",
    "\n",
    "    return total_cost\n",
    "\n",
    "def run_model(x, W, b):\n",
    "    return x @ W + b\n",
    "\n",
    "def loss_deriv(a, y):\n",
    "    return a-y\n",
    "\n",
    "def backward_prop(x, y, W, b):\n",
    "\n",
    "    z1 = x @ W + b\n",
    "    a1 = z1\n",
    "    \n",
    "    # compute dL/dw0 \n",
    "    dL_da = loss_deriv(a1, y)\n",
    "    da_dz = 1\n",
    "    dz_dw0 = x[0]\n",
    "    #print(dL_da, da_dz, dz_dw0)\n",
    "    # multiply\n",
    "    dL_dw0 = dL_da * da_dz * dz_dw0\n",
    "    #print(dL_dw0, \"AA\")\n",
    "    \n",
    "    # compute dL/dw0 (first two pieces already done)\n",
    "    dz_db = 1\n",
    "    # multiply\n",
    "    dL_db = dL_da * da_dz * dz_db\n",
    "\n",
    "    #print(dL_dw0, dL_db, \"DD\")\n",
    "    \n",
    "    return dL_dw0, dL_db"
   ]
  },
  {
   "cell_type": "code",
   "execution_count": 5,
   "id": "d1746561-d059-45fa-b288-ce2533bfae00",
   "metadata": {},
   "outputs": [
    {
     "data": {
      "text/plain": [
       "array([-0.1])"
      ]
     },
     "execution_count": 5,
     "metadata": {},
     "output_type": "execute_result"
    }
   ],
   "source": [
    "run_model(X_train[0], W, b)"
   ]
  },
  {
   "cell_type": "code",
   "execution_count": 6,
   "id": "db18e597-fa5b-4c53-9137-ee01d51c6c55",
   "metadata": {},
   "outputs": [
    {
     "data": {
      "text/plain": [
       "array([8.73643613])"
      ]
     },
     "execution_count": 6,
     "metadata": {},
     "output_type": "execute_result"
    }
   ],
   "source": [
    "compute_cost(X_train, y_train, W, b)"
   ]
  },
  {
   "cell_type": "code",
   "execution_count": 7,
   "id": "c666f609-63f7-47ea-b462-19ee1691edc8",
   "metadata": {},
   "outputs": [
    {
     "data": {
      "text/plain": [
       "(array([-47.7]), array([15.9]))"
      ]
     },
     "execution_count": 7,
     "metadata": {},
     "output_type": "execute_result"
    }
   ],
   "source": [
    "backward_prop(X_train[0], y_train[0], W, b)"
   ]
  },
  {
   "cell_type": "code",
   "execution_count": 8,
   "id": "674bd5d5-1700-4ce7-80f8-e1a8d2f2d01e",
   "metadata": {},
   "outputs": [
    {
     "name": "stderr",
     "output_type": "stream",
     "text": [
      "/var/folders/82/ggzm270j02x33q80b17g61tw0000gn/T/ipykernel_14552/241565519.py:36: DeprecationWarning: Conversion of an array with ndim > 0 to a scalar is deprecated, and will error in future. Ensure you extract a single element from your array before performing this operation. (Deprecated NumPy 1.25.)\n",
      "  W[0][0] -= ALPHA * grads[0]/X_train.shape[1]\n",
      "/var/folders/82/ggzm270j02x33q80b17g61tw0000gn/T/ipykernel_14552/241565519.py:37: DeprecationWarning: Conversion of an array with ndim > 0 to a scalar is deprecated, and will error in future. Ensure you extract a single element from your array before performing this operation. (Deprecated NumPy 1.25.)\n",
      "  b[0] -= ALPHA * grads[1]/X_train.shape[1]\n"
     ]
    },
    {
     "name": "stdout",
     "output_type": "stream",
     "text": [
      "Final W: [[2.404]] [1.8202]\n",
      "Final cost: [4.1899738]\n"
     ]
    }
   ],
   "source": [
    "# gradient descent:\n",
    "\n",
    "W = np.array([[-.1]])\n",
    "b = np.array([.2])\n",
    "ALPHA = .0006\n",
    "\n",
    "J_sequence = []\n",
    "\n",
    "#print(\"x train is\", X_train)\n",
    "#print(\"y train is\", y_train)\n",
    "\n",
    "for ctr in range(0, 6000):\n",
    "    #print(\"Iteration: \", ctr)\n",
    "    #print(\"W =\", W)\n",
    "    #print(\"Cost is\", compute_cost(X_train, y_train, W))\n",
    "    \n",
    "    #for i in range(X_train.shape[0]):   # m\n",
    "    #   #z1, a1 = forward_prop(W, X_train[i])\n",
    "    #    dL_dw0, dL_db = backward_prop(X_train[i], y_train[i], W, b)\n",
    "    #    ##print(backward_prop(X_train[i], y_train[i], W, b), \"FF\")\n",
    "    #    #print(\"Gradients\", dL_dw0, dL_db)\n",
    "    #    W[0][0] -= ALPHA * dL_dw0\n",
    "    #    b[0] -= ALPHA * dL_db\n",
    "    #    J_sequence.append(compute_cost(X_train, y_train, W, b))\n",
    "        \n",
    "    #\"batch\" gradient descent:\n",
    "    grads = [0,0]\n",
    "    for i in range(X_train.shape[0]):   # m\n",
    "        #z1, a1 = forward_prop(W, X_train[i])\n",
    "        dL_dw0, dL_db = backward_prop(X_train[i], y_train[i], W, b)\n",
    "        #print(\"Gradients\", dL_dw0, dL_dw1)\n",
    "        #W[0][0] -= ALPHA * dL_dw0\n",
    "        #W[0][1] -= ALPHA * dL_dw1\n",
    "        grads[0] += dL_dw0\n",
    "        grads[1] += dL_db   \n",
    "    W[0][0] -= ALPHA * grads[0]/X_train.shape[1]\n",
    "    b[0] -= ALPHA * grads[1]/X_train.shape[1]\n",
    "                              \n",
    "    J_sequence.append(compute_cost(X_train, y_train, W, b))\n",
    "    \n",
    "print(\"Final W:\", W, b)\n",
    "print(\"Final cost:\", compute_cost(X_train, y_train, W, b))"
   ]
  },
  {
   "cell_type": "code",
   "execution_count": 9,
   "id": "e7c900d3-10aa-4efb-bb8c-54bd1962b674",
   "metadata": {},
   "outputs": [
    {
     "data": {
      "image/png": "[encoded data removed]",
      "text/plain": [
       "<Figure size 640x480 with 1 Axes>"
      ]
     },
     "metadata": {},
     "output_type": "display_data"
    }
   ],
   "source": [
    "# Let's plot the cost as a function of number of iterations of the\n",
    "# gradient descent algorithm.\n",
    "\n",
    "plt.scatter(range(0, len(J_sequence)), J_sequence)\n",
    "plt.show()"
   ]
  },
  {
   "cell_type": "code",
   "execution_count": 10,
   "id": "51bec448-3a04-4882-a730-bd01904ec746",
   "metadata": {},
   "outputs": [
    {
     "data": {
      "image/png": "[encoded data removed]",
      "text/plain": [
       "<Figure size 640x480 with 1 Axes>"
      ]
     },
     "metadata": {},
     "output_type": "display_data"
    }
   ],
   "source": [
    "# Recreate original plot\n",
    "\n",
    "y_predicted = [run_model([x], W, b) for x in x_data]\n",
    "plt.plot(x_data, y_numeric, -3, 3)\n",
    "plt.plot(x_data, y_predicted)\n",
    "plt.show()"
   ]
  },
  {
   "cell_type": "code",
   "execution_count": 11,
   "id": "67ecb861-b930-40ba-b44f-6ed040a753c4",
   "metadata": {},
   "outputs": [
    {
     "name": "stdout",
     "output_type": "stream",
     "text": [
      "Requirement already satisfied: scikit-learn in /Users/pkirlin/Library/jupyterlab-desktop/jlab_server/lib/python3.12/site-packages (1.6.1)\n",
      "Requirement already satisfied: numpy>=1.19.5 in /Users/pkirlin/Library/jupyterlab-desktop/jlab_server/lib/python3.12/site-packages (from scikit-learn) (2.1.0)\n",
      "Requirement already satisfied: scipy>=1.6.0 in /Users/pkirlin/Library/jupyterlab-desktop/jlab_server/lib/python3.12/site-packages (from scikit-learn) (1.14.1)\n",
      "Requirement already satisfied: joblib>=1.2.0 in /Users/pkirlin/Library/jupyterlab-desktop/jlab_server/lib/python3.12/site-packages (from scikit-learn) (1.4.2)\n",
      "Requirement already satisfied: threadpoolctl>=3.1.0 in /Users/pkirlin/Library/jupyterlab-desktop/jlab_server/lib/python3.12/site-packages (from scikit-learn) (3.5.0)\n",
      "Note: you may need to restart the kernel to use updated packages.\n",
      "w found through scikit-learn: [2.404] 1.8202000000000087\n"
     ]
    }
   ],
   "source": [
    "# Verify this matches linear regression\n",
    "\n",
    "# Download and install scikit-learn if not already done:\n",
    "%pip install scikit-learn\n",
    "\n",
    "# Import the logistic regression functionality from scikit-learn\n",
    "from sklearn.linear_model import LinearRegression\n",
    "\n",
    "# Create a logistic regression model and train it on our training data:\n",
    "model = LinearRegression(fit_intercept=True).fit(X_train, y_train)\n",
    "\n",
    "# model.coef_ contains the w vector that this linear regression model was able to find\n",
    "\n",
    "print(\"w found through scikit-learn:\", model.coef_, model.intercept_)"
   ]
  },
  {
   "cell_type": "code",
   "execution_count": null,
   "id": "d6f2032f-5c40-4fa5-89c3-39a37ebd81f8",
   "metadata": {},
   "outputs": [],
   "source": []
  },
  {
   "cell_type": "markdown",
   "id": "7e28b73c-b2bb-47a5-ac8a-48e541f27e35",
   "metadata": {},
   "source": [
    "# Neural Network 2, 1 hidden layer with 2 neurons, regression\n",
    "\n"
   ]
  },
  {
   "cell_type": "code",
   "execution_count": 12,
   "id": "9baa8e48-eadd-414e-a496-2482bbff0060",
   "metadata": {},
   "outputs": [],
   "source": [
    "# Neural network 1, no hidden layer, regression (should duplicate linear regression)\n",
    "\n",
    "# Activation function is identity function (not sigmoid)\n",
    "# Loss function is squared error\n",
    "\n",
    "X_train = np.array(x_data).reshape((-1, 1))\n",
    "y_train = y_numeric\n",
    "\n",
    "W1 = np.random.rand(1, 3)\n",
    "W2 = np.random.rand(3, 1)\n",
    "b1 = np.random.rand(3)\n",
    "b2 = np.random.rand(1)\n",
    "\n",
    "def relu(z):\n",
    "    return np.maximum(0, z)\n",
    "\n",
    "def relu_deriv(z):\n",
    "    if z >= 0: \n",
    "        return 1 \n",
    "    else: return 0\n",
    "\n",
    "def compute_loss(a, y):\n",
    "    return .5 * (a - y) ** 2\n",
    "\n",
    "def compute_cost(X_data, y_data, W1, b1, W2, b2):\n",
    "    m = X_data.shape[0] # number of data points\n",
    "    cost = 0\n",
    "    \n",
    "    for i in range(m):\n",
    "        y_hat = run_model(X_data[i], W1, b1, W2, b2)\n",
    "        y = y_data[i]\n",
    "        cost += compute_loss(y_hat, y)\n",
    "    total_cost = (1 / (2 * m)) * cost\n",
    "\n",
    "    return total_cost\n",
    "\n",
    "def run_model(x, W1, b1, W2, b2):\n",
    "    z1 = x @ W1 + b1\n",
    "    a1 = relu(z1)\n",
    "    z2 = a1 @ W2 + b2\n",
    "    a2 = z2\n",
    "    return a2\n",
    "\n",
    "def loss_deriv(a, y):\n",
    "    return a-y\n",
    "\n",
    "def backward_prop(x, y, W1, b1, W2, b2):\n",
    "    z1 = x @ W1 + b1\n",
    "    a1 = relu(z1)\n",
    "    z2 = a1 @ W2 + b2\n",
    "    a2 = z2\n",
    "\n",
    "    #y = np.atleast_2d(y).T\n",
    "    #print(\"shape of y\", y.shape)\n",
    "\n",
    "    #print('shapes for dL/dW2')\n",
    "    #print(np.atleast_2d(a1).T.shape)\n",
    "    #print(np.atleast_2d(a2 - y).shape)\n",
    "\n",
    "    #print('shapes for dL/dW1')\n",
    "    #print(np.atleast_2d(x).T.shape)\n",
    "    #print(np.atleast_2d(a2 - y).shape)\n",
    "    #print(np.atleast_2d(W2.T).shape)\n",
    "    #print(((z1 > 0).astype(int)).shape)\n",
    "    \n",
    "    grad_W2 = np.atleast_2d(a1).T @ np.atleast_2d(a2 - y)\n",
    "    grad_W1 = np.atleast_2d(x).T @ np.atleast_2d(a2 - y) @ W2.T * ((z1 > 0).astype(int))\n",
    "    grad_b2 = np.sum(np.atleast_2d(a2 - y), axis=0)\n",
    "    grad_b1 = np.sum(np.atleast_2d(a2 - y) @ W2.T * ((z1 > 0).astype(int)), axis=0)\n",
    "    \n",
    "    #print(\"gW1\", grad_W1)\n",
    "    #print(\"gW2\", grad_W2)\n",
    "    #print(\"gb1\", grad_b1)\n",
    "    #print(\"gb2\", grad_b2)\n",
    "\n",
    "    return grad_W1, grad_b1, grad_W2, grad_b2"
   ]
  },
  {
   "cell_type": "code",
   "execution_count": 13,
   "id": "f8179e64-a316-46e9-8b29-7ea049346651",
   "metadata": {},
   "outputs": [
    {
     "data": {
      "text/plain": [
       "array([0.06643378])"
      ]
     },
     "execution_count": 13,
     "metadata": {},
     "output_type": "execute_result"
    }
   ],
   "source": [
    "run_model(X_train[0], W1, b1, W2, b2)"
   ]
  },
  {
   "cell_type": "code",
   "execution_count": 14,
   "id": "24a209fe-9c42-43cd-9450-b595f5f6fe2b",
   "metadata": {},
   "outputs": [
    {
     "data": {
      "text/plain": [
       "array([7.32343698])"
      ]
     },
     "execution_count": 14,
     "metadata": {},
     "output_type": "execute_result"
    }
   ],
   "source": [
    "compute_cost(X_train, y_train, W1, b1, W2, b2)"
   ]
  },
  {
   "cell_type": "code",
   "execution_count": 15,
   "id": "1e998ca3-8a0e-4644-b533-418c0a079759",
   "metadata": {},
   "outputs": [
    {
     "data": {
      "text/plain": [
       "(array([[-0.        , -1.05440894, -0.        ]]),\n",
       " array([0.        , 0.35146965, 0.        ]),\n",
       " array([[ 0.       ],\n",
       "        [10.6645376],\n",
       "        [ 0.       ]]),\n",
       " array([16.06643378]))"
      ]
     },
     "execution_count": 15,
     "metadata": {},
     "output_type": "execute_result"
    }
   ],
   "source": [
    "backward_prop(X_train[0], y_train[0], W1, b1, W2, b2)"
   ]
  },
  {
   "cell_type": "code",
   "execution_count": 38,
   "id": "00611a3f-3ee1-497d-867e-65ea3ff16491",
   "metadata": {},
   "outputs": [
    {
     "name": "stdout",
     "output_type": "stream",
     "text": [
      "Final W: [[2.33373529 0.72747408]] [-4.79971817  2.18486742] [[5.41453234]\n",
      " [2.26457239]] [-4.00576853]\n",
      "Final cost: [3.13537113]\n"
     ]
    }
   ],
   "source": [
    "# gradient descent:\n",
    "\n",
    "W1 = np.random.rand(1, 2)\n",
    "W2 = np.random.rand(2, 1)\n",
    "b1 = np.random.rand(2)\n",
    "b2 = np.random.rand(1)\n",
    "ALPHA = .01\n",
    "\n",
    "J_sequence = []\n",
    "\n",
    "#print(\"x train is\", X_train)\n",
    "#print(\"y train is\", y_train)\n",
    "\n",
    "for ctr in range(0, 3000):\n",
    "    \n",
    "    grad_W1 = np.zeros(W1.shape)\n",
    "    grad_W2 = np.zeros(W2.shape)\n",
    "    grad_b1 = np.zeros(b1.shape)\n",
    "    grad_b2 = np.zeros(b2.shape)\n",
    "    for i in range(X_train.shape[0]):   # m\n",
    "        gW1, gb1, gW2, gb2 = backward_prop(X_train[i], y_train[i], W1, b1, W2, b2)\n",
    "        grad_W1 += gW1\n",
    "        grad_b1 += gb1\n",
    "        grad_W2 += gW2\n",
    "        grad_b2 += gb2\n",
    "    W1 -= ALPHA * grad_W1/X_train.shape[0]\n",
    "    b1 -= ALPHA * grad_b1/X_train.shape[0]\n",
    "    W2 -= ALPHA * grad_W2/X_train.shape[0]\n",
    "    b2 -= ALPHA * grad_b2/X_train.shape[0]\n",
    "                              \n",
    "    J_sequence.append(compute_cost(X_train, y_train, W1, b1, W2, b2))\n",
    "    \n",
    "print(\"Final W:\", W1, b1, W2, b2)\n",
    "print(\"Final cost:\", compute_cost(X_train, y_train, W1, b1, W2, b2))\n",
    "#print(J_sequence)"
   ]
  },
  {
   "cell_type": "code",
   "execution_count": 39,
   "id": "baa4b7c6-36a8-4d66-ae5a-067f1d06dc4e",
   "metadata": {},
   "outputs": [
    {
     "data": {
      "image/png": "[encoded data removed]",
      "text/plain": [
       "<Figure size 640x480 with 1 Axes>"
      ]
     },
     "metadata": {},
     "output_type": "display_data"
    }
   ],
   "source": [
    "# Let's plot the cost as a function of number of iterations of the\n",
    "# gradient descent algorithm.\n",
    "\n",
    "plt.scatter(range(0, len(J_sequence)), J_sequence)\n",
    "plt.show()"
   ]
  },
  {
   "cell_type": "code",
   "execution_count": 40,
   "id": "f3f97f13-5495-4e7a-b246-98f40da8d39f",
   "metadata": {},
   "outputs": [
    {
     "name": "stdout",
     "output_type": "stream",
     "text": [
      "[[2.33373529 0.72747408]] [-4.79971817  2.18486742] [[5.41453234]\n",
      " [2.26457239]] [-4.00576853]\n"
     ]
    },
    {
     "data": {
      "image/png": "[encoded data removed]",
      "text/plain": [
       "<Figure size 640x480 with 1 Axes>"
      ]
     },
     "metadata": {},
     "output_type": "display_data"
    }
   ],
   "source": [
    "# Recreate original plot\n",
    "print(W1, b1, W2, b2)\n",
    "y_predicted = [run_model([x], W1, b1, W2, b2) for x in x_data]\n",
    "plt.plot(x_data, y_numeric, -3, 3)\n",
    "plt.plot(x_data, y_predicted)\n",
    "plt.show()"
   ]
  },
  {
   "cell_type": "code",
   "execution_count": null,
   "id": "322593e9-6d57-4388-ab21-bc350ae651a6",
   "metadata": {},
   "outputs": [],
   "source": []
  }
 ],
 "metadata": {
  "kernelspec": {
   "display_name": "Python 3 (ipykernel)",
   "language": "python",
   "name": "python3"
  },
  "language_info": {
   "codemirror_mode": {
    "name": "ipython",
    "version": 3
   },
   "file_extension": ".py",
   "mimetype": "text/x-python",
   "name": "python",
   "nbconvert_exporter": "python",
   "pygments_lexer": "ipython3",
   "version": "3.12.5"
  }
 },
 "nbformat": 4,
 "nbformat_minor": 5
}
