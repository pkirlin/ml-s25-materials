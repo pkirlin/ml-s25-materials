{
 "cells": [
  {
   "cell_type": "code",
   "execution_count": null,
   "id": "99d751b7-4182-4224-80e1-1e9077775725",
   "metadata": {},
   "outputs": [],
   "source": [
    "def d(x1, y1, x2, y2):\n",
    "    return (x1 - x2) ** 2 + (y1 - y2) ** 2"
   ]
  },
  {
   "cell_type": "code",
   "execution_count": null,
   "id": "e25206c0-76a8-4331-8021-a1e5ee4e6744",
   "metadata": {},
   "outputs": [],
   "source": []
  },
  {
   "cell_type": "code",
   "execution_count": null,
   "id": "8b952f49-02da-4e6a-b388-b7e64e06fe39",
   "metadata": {},
   "outputs": [],
   "source": []
  },
  {
   "cell_type": "code",
   "execution_count": null,
   "id": "772412d0-b0a6-4201-8d9a-633ceff3552b",
   "metadata": {},
   "outputs": [],
   "source": []
  },
  {
   "cell_type": "code",
   "execution_count": null,
   "id": "c384164e-d5b8-48c2-8b32-94d596b6ce6d",
   "metadata": {},
   "outputs": [],
   "source": []
  },
  {
   "cell_type": "code",
   "execution_count": null,
   "id": "f5f4ab2d-9342-4712-8e4b-f7411363af34",
   "metadata": {},
   "outputs": [],
   "source": []
  },
  {
   "cell_type": "code",
   "execution_count": null,
   "id": "2091238c-44ba-4e7e-a2cb-38a625c11231",
   "metadata": {},
   "outputs": [],
   "source": []
  }
 ],
 "metadata": {
  "kernelspec": {
   "display_name": "Python 3 (ipykernel)",
   "language": "python",
   "name": "python3"
  },
  "language_info": {
   "codemirror_mode": {
    "name": "ipython",
    "version": 3
   },
   "file_extension": ".py",
   "mimetype": "text/x-python",
   "name": "python",
   "nbconvert_exporter": "python",
   "pygments_lexer": "ipython3",
   "version": "3.12.5"
  }
 },
 "nbformat": 4,
 "nbformat_minor": 5
}
