{
 "cells": [
  {
   "cell_type": "code",
   "execution_count": null,
   "id": "744964c8-84b1-4e0c-99db-1aa1dbf6d400",
   "metadata": {},
   "outputs": [],
   "source": [
    "import numpy as np\n",
    "import pandas as pd\n",
    "import matplotlib.pyplot as plt"
   ]
  },
  {
   "cell_type": "code",
   "execution_count": null,
   "id": "11f21bab-a077-45fd-873c-7d66335d29a7",
   "metadata": {},
   "outputs": [],
   "source": [
    "df = pd.read_csv(\"data1.csv\", header=None)\n",
    "df"
   ]
  },
  {
   "cell_type": "code",
   "execution_count": null,
   "id": "453aaa4b-ddf5-4bda-8a03-850f35c2993e",
   "metadata": {},
   "outputs": [],
   "source": [
    "X_train = df.to_numpy()"
   ]
  },
  {
   "cell_type": "code",
   "execution_count": null,
   "id": "e935e2d5-e55f-41b3-b922-36d26ce12797",
   "metadata": {},
   "outputs": [],
   "source": [
    "plt.scatter(X_train[:, 0], X_train[:, 1], marker='x', c='b') \n",
    "\n",
    "# Set the y-axis label\n",
    "plt.ylabel('Throughput (mb/s)')\n",
    "# Set the x-axis label\n",
    "plt.xlabel('Latency (ms)')\n",
    "# Set axis range\n",
    "plt.axis([0, 30, 0, 30])\n",
    "plt.show()"
   ]
  },
  {
   "cell_type": "code",
   "execution_count": null,
   "id": "986484c9-6965-4443-abd0-ea7f119f7277",
   "metadata": {},
   "outputs": [],
   "source": [
    "def estimate_mean_and_variance(X): \n",
    "    \"\"\"\n",
    "    Calculates mean of an array\n",
    "    in the dataset\n",
    "    \n",
    "    Args:\n",
    "        X (ndarray): (m, n) Data matrix\n",
    "    \n",
    "    Returns:\n",
    "        mu (ndarray): (n,) Mean of all features\n",
    "        var (ndarray): (n,) Variance of all features\n",
    "    \"\"\"\n",
    "\n",
    "    m, n = X.shape\n",
    "    \n",
    "    ### START CODE HERE ### \n",
    "    # m = number of training examples\n",
    "    # n = number of features\n",
    "\n",
    "    \n",
    "    ### END CODE HERE ### \n",
    "        \n",
    "    return mu, var"
   ]
  },
  {
   "cell_type": "code",
   "execution_count": null,
   "id": "d084e3b2-6150-41fc-9271-b8c19bd392d6",
   "metadata": {},
   "outputs": [],
   "source": [
    "estimate_mean_and_variance(X_train)"
   ]
  },
  {
   "cell_type": "code",
   "execution_count": null,
   "id": "9ebc0bd2-0c7e-4603-872e-6d730721c747",
   "metadata": {},
   "outputs": [],
   "source": [
    "X_means = np.mean(X_train, axis=0)\n",
    "X_means"
   ]
  },
  {
   "cell_type": "code",
   "execution_count": null,
   "id": "235af4e7-95e9-4a4c-9ac6-70c6cdbe28cf",
   "metadata": {},
   "outputs": [],
   "source": [
    "X_variances = np.var(X_train, axis=0)\n",
    "X_variances"
   ]
  },
  {
   "cell_type": "code",
   "execution_count": null,
   "id": "5ed61c52-81dd-4888-a800-4248cf601fd3",
   "metadata": {},
   "outputs": [],
   "source": [
    "import math\n",
    "\n",
    "def gaussian_prob(x, mean, var):\n",
    "    pass\n",
    "    #YOUR CODE HERE"
   ]
  },
  {
   "cell_type": "code",
   "execution_count": null,
   "id": "5ef00a87-66d7-45d9-8a52-01746a9030b7",
   "metadata": {},
   "outputs": [],
   "source": [
    "gaussian_prob(X_train[0][0], X_means[0], X_variances[0])"
   ]
  },
  {
   "cell_type": "code",
   "execution_count": null,
   "id": "ee20cfcf-2d5e-4d41-9a33-bfd1e126f82a",
   "metadata": {},
   "outputs": [],
   "source": [
    "g = np.vectorize(gaussian_prob)\n",
    "g(X_train[:, 0], X_means[0], X_variances[0])"
   ]
  },
  {
   "cell_type": "code",
   "execution_count": null,
   "id": "72701744-bc7e-4fde-8c2a-dade127c6432",
   "metadata": {},
   "outputs": [],
   "source": [
    "g = np.vectorize(gaussian_prob)\n",
    "g(X_train[:, 1], X_means[1], X_variances[1])"
   ]
  },
  {
   "cell_type": "code",
   "execution_count": null,
   "id": "64317451-35f3-40f3-934e-edf7c7785c24",
   "metadata": {},
   "outputs": [],
   "source": [
    "def data_prob(x1, x2, x1mean, x1var, x2mean, x2var):\n",
    "    pass\n",
    "    #YOUR CODE HERE"
   ]
  },
  {
   "cell_type": "code",
   "execution_count": null,
   "id": "5af98871-59c0-47f9-8b9d-98740778e1ed",
   "metadata": {},
   "outputs": [],
   "source": [
    "X_train[0, :]"
   ]
  },
  {
   "cell_type": "code",
   "execution_count": null,
   "id": "2d8892fe-7f57-4ca8-bd77-b31fc3fbf1db",
   "metadata": {},
   "outputs": [],
   "source": [
    "def compute_probs(X, means, variances):\n",
    "    probs = []\n",
    "    for i in range(X.shape[0]):\n",
    "        row = X[i, :]\n",
    "        x1 = row[0]\n",
    "        x2 = row[1]\n",
    "        x1mean = means[0]\n",
    "        x1var = variances[0]\n",
    "        x2mean = means[1]\n",
    "        x2var = variances[1]\n",
    "        p = data_prob(x1, x2, x1mean, x1var, x2mean, x2var)\n",
    "        probs.append(p)\n",
    "    return probs"
   ]
  },
  {
   "cell_type": "code",
   "execution_count": null,
   "id": "777651bb-a129-454b-9d37-44e07326d15d",
   "metadata": {},
   "outputs": [],
   "source": [
    "probs = np.array(compute_probs(X_train, X_means, X_variances))\n",
    "print(probs)"
   ]
  },
  {
   "cell_type": "code",
   "execution_count": null,
   "id": "c090415d-980f-4489-bc9c-af7b7e4ee8ad",
   "metadata": {},
   "outputs": [],
   "source": [
    "\n",
    "plt.scatter(X_train[:, 0], X_train[:, 1], marker='o', c=np.log(probs)) \n",
    "\n",
    "# Set the y-axis label\n",
    "plt.ylabel('Throughput (mb/s)')\n",
    "# Set the x-axis label\n",
    "plt.xlabel('Latency (ms)')\n",
    "# Set axis range\n",
    "plt.axis([0, 30, 0, 30])\n",
    "plt.show()"
   ]
  },
  {
   "cell_type": "code",
   "execution_count": null,
   "id": "af790fb3-6f68-4655-b4c3-58ddd673dbd2",
   "metadata": {},
   "outputs": [],
   "source": [
    "epsilon = .001\n",
    "\n",
    "colors = probs < epsilon\n",
    "\n",
    "plt.scatter(X_train[:, 0], X_train[:, 1], marker='o', c=colors) \n",
    "\n",
    "# Set the y-axis label\n",
    "plt.ylabel('Throughput (mb/s)')\n",
    "# Set the x-axis label\n",
    "plt.xlabel('Latency (ms)')\n",
    "# Set axis range\n",
    "plt.axis([0, 30, 0, 30])\n",
    "plt.show()"
   ]
  },
  {
   "cell_type": "code",
   "execution_count": null,
   "id": "8c323e0c-2d7e-4195-8bb3-2888e9908b17",
   "metadata": {},
   "outputs": [],
   "source": []
  }
 ],
 "metadata": {
  "kernelspec": {
   "display_name": "Python 3 (ipykernel)",
   "language": "python",
   "name": "python3"
  },
  "language_info": {
   "codemirror_mode": {
    "name": "ipython",
    "version": 3
   },
   "file_extension": ".py",
   "mimetype": "text/x-python",
   "name": "python",
   "nbconvert_exporter": "python",
   "pygments_lexer": "ipython3",
   "version": "3.8.15"
  }
 },
 "nbformat": 4,
 "nbformat_minor": 5
}
